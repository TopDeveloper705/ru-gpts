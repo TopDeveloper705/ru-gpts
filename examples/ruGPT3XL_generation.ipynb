{
 "cells": [
  {
   "cell_type": "markdown",
   "metadata": {
    "id": "r-XkQgf-ufgE"
   },
   "source": [
    "## Install lib"
   ]
  },
  {
   "cell_type": "code",
   "execution_count": 1,
   "metadata": {
    "id": "gH2kLmcXmL3e"
   },
   "outputs": [],
   "source": [
    "%%bash\n",
    "export LD_LIBRARY_PATH=/usr/lib/"
   ]
  },
  {
   "cell_type": "code",
   "execution_count": null,
   "metadata": {
    "id": "NRkBHiuOFYB-"
   },
   "outputs": [],
   "source": [
    "!apt-get install clang-9 llvm-9 llvm-9-dev llvm-9-tools"
   ]
  },
  {
   "cell_type": "code",
   "execution_count": 3,
   "metadata": {
    "id": "GfdFeAVylpIQ"
   },
   "outputs": [],
   "source": [
    "!rm -rf apex"
   ]
  },
  {
   "cell_type": "code",
   "execution_count": null,
   "metadata": {
    "id": "zFqiiOnRnh9p"
   },
   "outputs": [],
   "source": [
    "%%bash\n",
    "git clone https://github.com/qywu/apex\n",
    "cd apex\n",
    "pip install -v --no-cache-dir --global-option=\"--cpp_ext\" --global-option=\"--cuda_ext\" ./"
   ]
  },
  {
   "cell_type": "code",
   "execution_count": null,
   "metadata": {
    "id": "7t-l-Gq6mGYg"
   },
   "outputs": [],
   "source": [
    "!pip install triton"
   ]
  },
  {
   "cell_type": "code",
   "execution_count": null,
   "metadata": {
    "id": "LEyrQ-spCdhR"
   },
   "outputs": [],
   "source": [
    "!DS_BUILD_CPU_ADAM=1 DS_BUILD_SPARSE_ATTN=1 pip install deepspeed"
   ]
  },
  {
   "cell_type": "code",
   "execution_count": 7,
   "metadata": {
    "colab": {
     "base_uri": "https://localhost:8080/"
    },
    "id": "---7k9osCliv",
    "outputId": "db81d843-c418-47d7-a7cc-51ba54a9fcb5"
   },
   "outputs": [
    {
     "name": "stdout",
     "output_type": "stream",
     "text": [
      "--------------------------------------------------\n",
      "DeepSpeed C++/CUDA extension op report\n",
      "--------------------------------------------------\n",
      "NOTE: Ops not installed will be just-in-time (JIT) compiled at\n",
      "      runtime if needed. Op compatibility means that your system\n",
      "      meet the required dependencies to JIT install the op.\n",
      "--------------------------------------------------\n",
      "JIT compiled ops requires ninja\n",
      "ninja .................. \u001b[92m[OKAY]\u001b[0m\n",
      "--------------------------------------------------\n",
      "op name ................ installed .. compatible\n",
      "--------------------------------------------------\n",
      "cpu_adam ............... \u001b[92m[YES]\u001b[0m ...... \u001b[92m[OKAY]\u001b[0m\n",
      "cpu_adagrad ............ \u001b[93m[NO]\u001b[0m ....... \u001b[92m[OKAY]\u001b[0m\n",
      "fused_adam ............. \u001b[93m[NO]\u001b[0m ....... \u001b[92m[OKAY]\u001b[0m\n",
      "fused_lamb ............. \u001b[93m[NO]\u001b[0m ....... \u001b[92m[OKAY]\u001b[0m\n",
      "sparse_attn ............ \u001b[92m[YES]\u001b[0m ...... \u001b[92m[OKAY]\u001b[0m\n",
      "transformer ............ \u001b[93m[NO]\u001b[0m ....... \u001b[92m[OKAY]\u001b[0m\n",
      "stochastic_transformer . \u001b[93m[NO]\u001b[0m ....... \u001b[92m[OKAY]\u001b[0m\n",
      "\u001b[93m [WARNING] \u001b[0m async_io requires the dev libaio .so object and headers but these were not found.\n",
      "\u001b[93m [WARNING] \u001b[0m async_io: please install the libaio-dev package with apt\n",
      "\u001b[93m [WARNING] \u001b[0m If libaio is already installed (perhaps from source), try setting the CFLAGS and LDFLAGS environment variables to where it can be found.\n",
      "async_io ............... \u001b[93m[NO]\u001b[0m ....... \u001b[93m[NO]\u001b[0m\n",
      "transformer_inference .. \u001b[93m[NO]\u001b[0m ....... \u001b[92m[OKAY]\u001b[0m\n",
      "utils .................. \u001b[93m[NO]\u001b[0m ....... \u001b[92m[OKAY]\u001b[0m\n",
      "quantizer .............. \u001b[93m[NO]\u001b[0m ....... \u001b[92m[OKAY]\u001b[0m\n",
      "--------------------------------------------------\n",
      "DeepSpeed general environment info:\n",
      "torch install path ............... ['/usr/local/lib/python3.8/dist-packages/torch']\n",
      "torch version .................... 1.12.1+cu113\n",
      "torch cuda version ............... 11.3\n",
      "nvcc version ..................... 11.2\n",
      "deepspeed install path ........... ['/usr/local/lib/python3.8/dist-packages/deepspeed']\n",
      "deepspeed info ................... 0.5.10, unknown, unknown\n",
      "deepspeed wheel compiled w. ...... torch 1.12, cuda 11.3\n"
     ]
    }
   ],
   "source": [
    "!ds_report"
   ]
  },
  {
   "cell_type": "markdown",
   "metadata": {
    "id": "rl1JIPsK8viz"
   },
   "source": [
    "Test, that deepspeed was installed correctly."
   ]
  },
  {
   "cell_type": "code",
   "execution_count": 14,
   "metadata": {
    "id": "DqPIkEYjCmLH"
   },
   "outputs": [],
   "source": [
    "import deepspeed.ops.sparse_attention.sparse_attn_op"
   ]
  },
  {
   "cell_type": "code",
   "execution_count": 9,
   "metadata": {
    "id": "gw4lJHfX4QnB"
   },
   "outputs": [],
   "source": [
    "!rm -rf ru-gpts"
   ]
  },
  {
   "cell_type": "code",
   "execution_count": null,
   "metadata": {
    "id": "t43yH5k1jtZZ"
   },
   "outputs": [],
   "source": [
    "!git clone  https://github.com/sberbank-ai/ru-gpts"
   ]
  },
  {
   "cell_type": "code",
   "execution_count": null,
   "metadata": {
    "id": "H2XiJvm_tQgL"
   },
   "outputs": [],
   "source": [
    "!pip install transformers==3.5.1"
   ]
  },
  {
   "cell_type": "code",
   "execution_count": null,
   "metadata": {
    "id": "HN9FJ3rKnO5Q"
   },
   "outputs": [],
   "source": [
    "!pip install timm==0.3.2"
   ]
  },
  {
   "cell_type": "code",
   "execution_count": 13,
   "metadata": {
    "id": "1RCujWwJUwm-"
   },
   "outputs": [],
   "source": [
    "!cp ru-gpts/src_utils/trainer_pt_utils.py /usr/local/lib/python3.8/dist-packages/transformers/trainer_pt_utils.py"
   ]
  },
  {
   "cell_type": "code",
   "execution_count": null,
   "metadata": {
    "id": "GHhCIrDQAAdJ"
   },
   "outputs": [],
   "source": [
    "!cp ru-gpts/src_utils/_amp_state.py /usr/local/lib/python3.8/dist-packages/apex/amp/_amp_state.py"
   ]
  },
  {
   "cell_type": "markdown",
   "metadata": {
    "id": "iWnXPnNR8nW4"
   },
   "source": [
    "Here restart colab env!!!"
   ]
  },
  {
   "cell_type": "markdown",
   "metadata": {
    "id": "7TbybJfIpBVa"
   },
   "source": [
    "# Test model"
   ]
  },
  {
   "cell_type": "code",
   "execution_count": 3,
   "metadata": {
    "id": "P5P4MjOkwTtN"
   },
   "outputs": [],
   "source": [
    "import deepspeed"
   ]
  },
  {
   "cell_type": "markdown",
   "metadata": {
    "id": "rU8lvJHAjpPQ"
   },
   "source": [
    "### Load model"
   ]
  },
  {
   "cell_type": "code",
   "execution_count": 4,
   "metadata": {
    "id": "EnTy1SEajpPV"
   },
   "outputs": [],
   "source": [
    "import warnings\n",
    "warnings.filterwarnings(\"ignore\")"
   ]
  },
  {
   "cell_type": "code",
   "execution_count": 5,
   "metadata": {
    "id": "Z-DSEz0ljpPV"
   },
   "outputs": [],
   "source": [
    "import sys\n",
    "sys.path.append(\"ru-gpts/\")"
   ]
  },
  {
   "cell_type": "code",
   "execution_count": 6,
   "metadata": {
    "id": "_9GABoxNVpH4"
   },
   "outputs": [],
   "source": [
    "import os\n",
    "os.environ[\"USE_DEEPSPEED\"] = \"1\""
   ]
  },
  {
   "cell_type": "code",
   "execution_count": 7,
   "metadata": {
    "id": "_HeCFnJEjpPV"
   },
   "outputs": [],
   "source": [
    "from src.xl_wrapper import RuGPT3XL"
   ]
  },
  {
   "cell_type": "markdown",
   "metadata": {
    "id": "OdyughHDjpPV"
   },
   "source": [
    "Note! seq_len is max sequence length for generation used in generation process. Max avialable seq_len is 2048 (in tokens).\n",
    "Also inference takes around 10 Gb GPU memory."
   ]
  },
  {
   "cell_type": "code",
   "execution_count": 8,
   "metadata": {
    "colab": {
     "base_uri": "https://localhost:8080/"
    },
    "id": "Ik1FP4Jcq8tg",
    "outputId": "bf562319-c269-4d47-e1b8-a1c47796717f"
   },
   "outputs": [
    {
     "data": {
      "text/plain": [
       "True"
      ]
     },
     "execution_count": 8,
     "metadata": {},
     "output_type": "execute_result"
    }
   ],
   "source": [
    "import torch\n",
    "torch.cuda.is_available()"
   ]
  },
  {
   "cell_type": "code",
   "execution_count": 9,
   "metadata": {
    "id": "BKpw5ik2uWrw"
   },
   "outputs": [],
   "source": [
    "from src import mpu"
   ]
  },
  {
   "cell_type": "code",
   "execution_count": 10,
   "metadata": {
    "id": "T0hDbxdvvUiO"
   },
   "outputs": [],
   "source": [
    "os.environ[\"MASTER_ADDR\"] = \"127.0.0.1\"\n",
    "os.environ[\"MASTER_PORT\"] = \"5000\""
   ]
  },
  {
   "cell_type": "code",
   "execution_count": 11,
   "metadata": {
    "colab": {
     "base_uri": "https://localhost:8080/"
    },
    "id": "56aNJNPYjpPW",
    "outputId": "3ac62539-8ce7-413f-ee72-396908d4f59a",
    "scrolled": true
   },
   "outputs": [
    {
     "name": "stdout",
     "output_type": "stream",
     "text": [
      "> initializing model parallel with size 1\n",
      "> initializing model parallel cuda seeds on global rank 0, model parallel rank 0, and data parallel rank 0 with model parallel seed: 3952 and data parallel seed: 1234\n",
      "Use alternating sparse & dense attention layers\n"
     ]
    }
   ],
   "source": [
    "# gpt = RuGPT3XL.from_pretrained(\"sberbank-ai/rugpt3xl\", seq_len=512)\n",
    "gpt = RuGPT3XL.from_pretrained(\"sberbank-ai/rugpt3xl\", seq_len=512)\n",
    "# model parallel group is not initialized - если не подключена gpu"
   ]
  },
  {
   "cell_type": "markdown",
   "metadata": {
    "id": "7qR_3287jpPW"
   },
   "source": [
    "### Get logits"
   ]
  },
  {
   "cell_type": "code",
   "execution_count": 12,
   "metadata": {
    "id": "9yfRylnnjpPW"
   },
   "outputs": [],
   "source": [
    "logits = gpt(\"Кто был президентом США в 2020? \").logits"
   ]
  },
  {
   "cell_type": "code",
   "execution_count": 13,
   "metadata": {
    "colab": {
     "base_uri": "https://localhost:8080/"
    },
    "id": "BHcwcMwHjpPX",
    "outputId": "352a06bd-849c-4dd7-c699-16d0085eef0b"
   },
   "outputs": [
    {
     "data": {
      "text/plain": [
       "(torch.Tensor, torch.Size([1, 8, 50264]))"
      ]
     },
     "execution_count": 13,
     "metadata": {},
     "output_type": "execute_result"
    }
   ],
   "source": [
    "type(logits), logits.shape"
   ]
  },
  {
   "cell_type": "markdown",
   "metadata": {
    "id": "J7a29eADjpPX"
   },
   "source": [
    "### Get loss"
   ]
  },
  {
   "cell_type": "code",
   "execution_count": 14,
   "metadata": {
    "id": "q44D1VlojpPX"
   },
   "outputs": [],
   "source": [
    "input_ids = [gpt.tokenizer(\"Кто был президентом США в 2020? \")['input_ids']]\n",
    "labels = input_ids"
   ]
  },
  {
   "cell_type": "code",
   "execution_count": 15,
   "metadata": {
    "id": "9zIpNDegjpPX"
   },
   "outputs": [],
   "source": [
    "import torch\n",
    "\n",
    "\n",
    "with torch.no_grad():\n",
    "    loss = gpt(input_ids=input_ids, labels=labels).loss"
   ]
  },
  {
   "cell_type": "code",
   "execution_count": 16,
   "metadata": {
    "colab": {
     "base_uri": "https://localhost:8080/"
    },
    "id": "WcYvXFsBjpPY",
    "outputId": "b9c0a41c-da9a-4be0-eaf2-f19a25f0e900"
   },
   "outputs": [
    {
     "data": {
      "text/plain": [
       "[tensor(4.3895, device='cuda:0')]"
      ]
     },
     "execution_count": 16,
     "metadata": {},
     "output_type": "execute_result"
    }
   ],
   "source": [
    "loss"
   ]
  },
  {
   "cell_type": "markdown",
   "metadata": {
    "id": "Lgi-JUNijpPY"
   },
   "source": [
    "### Simple generation"
   ]
  },
  {
   "cell_type": "code",
   "execution_count": 17,
   "metadata": {
    "id": "Z0AIfKPPjpPY"
   },
   "outputs": [],
   "source": [
    "def filter_resuls(nr):\n",
    "    return [x[:x.find(\"<|endoftext|>\")] for x in nr]"
   ]
  },
  {
   "cell_type": "markdown",
   "metadata": {
    "id": "aHWixkU3jpPY"
   },
   "source": [
    "Greedy decoding"
   ]
  },
  {
   "cell_type": "code",
   "execution_count": 18,
   "metadata": {
    "colab": {
     "base_uri": "https://localhost:8080/"
    },
    "id": "wla741VxjpPY",
    "outputId": "97c07180-c328-469f-dfd8-4214562368bd"
   },
   "outputs": [
    {
     "data": {
      "text/plain": [
       "['Кто был президентом США в 2020? \\nВ этом году выборы президента Соединенных Штатов Америки пройдут уже через несколько дней. И, как и всегда на протяжении последних лет (а это более чем 20-ти), кандидаты будут бороться за право стать главой государств']"
      ]
     },
     "execution_count": 18,
     "metadata": {},
     "output_type": "execute_result"
    }
   ],
   "source": [
    "filter_resuls(gpt.generate(\n",
    "    \"Кто был президентом США в 2020? \",\n",
    "    max_length=50,\n",
    "    no_repeat_ngram_size=3,\n",
    "    repetition_penalty=2.,\n",
    "))"
   ]
  },
  {
   "cell_type": "markdown",
   "metadata": {
    "id": "I_ltaza-jpPZ"
   },
   "source": [
    "sample"
   ]
  },
  {
   "cell_type": "code",
   "execution_count": 19,
   "metadata": {
    "colab": {
     "base_uri": "https://localhost:8080/"
    },
    "id": "3oPE1lP2jpPZ",
    "outputId": "de77c7d1-5b7c-4eb6-9a00-b8c5a11f9eb2"
   },
   "outputs": [
    {
     "data": {
      "text/plain": [
       "['Кто был президентом США в 2020? \\nНовым, на первый взгляд странным и непонятным образом определилось будущее Америки. За несколько часов до конца таймера ожидания выборов президента уже ясно было - кто займет президентский пост после окончания голосования – Дональд Трам',\n",
       " 'Кто был президентом США в 2020? \\n\"Я никогда не выйду живым из этого леса\",- говорит главный герой фильма \"Зеленая миля\". Услышав это, начинаешь задумываться: а так ли хорош твой опыт жизни на другой стороне земного шара',\n",
       " 'Кто был президентом США в 2020? \\nВы хотите знать, как будет выглядеть ваш мир через сорок лет после того срока своего президентства уходящего следующего президента? Посмотрите на эти четыре изображения и попробуйте угадать кто бы это мог быть. \\n Вот первый предполаг',\n",
       " 'Кто был президентом США в 2020? \\nВ интернете появился новый опрос на тему, которую так трудно назвать \"демократичной\". Народ хочет знать о том. какие президенты стояли у руля их страны и за сколько часов до собственной смерти они успевали подписат',\n",
       " 'Кто был президентом США в 2020? \\nВот, мы знаем. Кто президент России с 2018 — точно: Владимир Владимирович Путин наш дорогой и любимый (пока не отлучим его по суду). У остальных тоже есть свои любимчики... или там ненав']"
      ]
     },
     "execution_count": 19,
     "metadata": {},
     "output_type": "execute_result"
    }
   ],
   "source": [
    "filter_resuls(gpt.generate(\n",
    "    \"Кто был президентом США в 2020? \", do_sample=True, num_return_sequences=5,\n",
    "    max_length=50,\n",
    "    no_repeat_ngram_size=3,\n",
    "    repetition_penalty=2.,\n",
    "))"
   ]
  },
  {
   "cell_type": "markdown",
   "metadata": {
    "id": "9FbokoJDjpPZ"
   },
   "source": [
    "### Top_k top_p filtering"
   ]
  },
  {
   "cell_type": "code",
   "execution_count": 20,
   "metadata": {
    "colab": {
     "base_uri": "https://localhost:8080/"
    },
    "id": "8L-CF6uLjpPZ",
    "outputId": "4fa855d5-7ab8-440f-8d4f-5ae6382c09a3"
   },
   "outputs": [
    {
     "data": {
      "text/plain": [
       "['Александр Сергеевич Пушкин родился в \\nМоскве. В 1799 г., после того как его отец, отставной поручик лейб-гвардии Преображенского полка Александр Иванович (17451816), женился на вдове капитана Екатерине Петро',\n",
       " 'Александр Сергеевич Пушкин родился в \\xa01899 году. Он был сыном великого поэта Александра Сергеевича Пушкина и Натальи Гончаровой - сестры прапрабабушки Льва Толстого Александры Николаевны, которая была замужем за князем Николаем Васильевичем Трубецки',\n",
       " 'Александр Сергеевич Пушкин родился в \\n1817 году. Его отец – Александр Иванович, служил чиновником при министерстве внутренних дел Российской империи и умер рано; его мать Мария Алексеевна Ганнибал (урожденная Пушкина), урождённая Энгельга',\n",
       " 'Александр Сергеевич Пушкин родился в \\n1817 г. (по другим сведениям 1820). В детстве и ранней юности жил с родителями за границей, учился у лучших педагогов Франции - Лагарпа, Жозефа Мари Ашара. С ранних лет увле',\n",
       " 'Александр Сергеевич Пушкин родился в \\n1799 г. Его отец, Александр Матвеевич Ганнибал (ум.-1837), был родом из деревни Слепушкино Тверской губернии; дед - отставной майор Иван Петрович Гамильтон-Пушки']"
      ]
     },
     "execution_count": 20,
     "metadata": {},
     "output_type": "execute_result"
    }
   ],
   "source": [
    "filter_resuls(gpt.generate(\n",
    "    \"Александр Сергеевич Пушкин родился в \",\n",
    "    top_k=5,\n",
    "    top_p=0.95,\n",
    "    temperature=1.2,\n",
    "    num_return_sequences=5,\n",
    "    do_sample=True,\n",
    "    max_length=50,\n",
    "    no_repeat_ngram_size=3,\n",
    "    repetition_penalty=2.,\n",
    "))"
   ]
  },
  {
   "cell_type": "markdown",
   "metadata": {
    "id": "scs7xKdhjpPZ"
   },
   "source": [
    "### Beamsearch"
   ]
  },
  {
   "cell_type": "code",
   "execution_count": 21,
   "metadata": {
    "colab": {
     "base_uri": "https://localhost:8080/"
    },
    "id": "7Qw65CVzjpPZ",
    "outputId": "55950661-61c4-4887-8c89-4d58d391668f"
   },
   "outputs": [
    {
     "data": {
      "text/plain": [
       "['Александр Сергеевич Пушкин родился в \\n1799 году в селе Михайловском Псковской губернии. Его отец, \\nАлександр Львович Пушкин, происходил из старинного \\nдворянского рода. Мать, урожденная Ганнибал, был',\n",
       " 'Александр Сергеевич Пушкин родился в \\n1799 году в селе Михайловском Псковской губернии. Его отец, \\nАлександр Львович Пушкин, происходил из старинного \\nдворянского рода. Мать поэта, Мария Алексеевна Ганнибал',\n",
       " 'Александр Сергеевич Пушкин родился в \\n1799 году в селе Михайловском Псковской губернии. Его отец, \\nАлександр Львович Пушкин, происходил из старинного \\nдворянского рода. Мать поэта, Наталья Николаевна \\nПушкин',\n",
       " 'Александр Сергеевич Пушкин родился в \\n1799 году в селе Михайловском Псковской губернии. Его отец, \\nАлександр Львович Пушкин, происходил из старинного \\nдворянского рода. Мать, урождённая Ганнибал, был',\n",
       " 'Александр Сергеевич Пушкин родился в \\n1799 году в селе Михайловском Псковской губернии. Его отец, \\nАлександр Львович Пушкин, происходил из старинного \\nдворянского рода. Мать, урожденная Ганнибал,']"
      ]
     },
     "execution_count": 21,
     "metadata": {},
     "output_type": "execute_result"
    }
   ],
   "source": [
    "filter_resuls(gpt.generate(\n",
    "    text=\"Александр Сергеевич Пушкин родился в \",\n",
    "    max_length=50,\n",
    "    num_beams=10,\n",
    "    no_repeat_ngram_size=3,\n",
    "    repetition_penalty=2.,\n",
    "    num_return_sequences=5,\n",
    "))"
   ]
  },
  {
   "cell_type": "code",
   "execution_count": 21,
   "metadata": {
    "id": "sw4Iv-Dl3q05"
   },
   "outputs": [],
   "source": []
  }
 ],
 "metadata": {
  "accelerator": "GPU",
  "colab": {
   "name": "ruGPT3XL_generation.ipynb",
   "provenance": []
  },
  "gpuClass": "standard",
  "kernelspec": {
   "display_name": "Python 3 (ipykernel)",
   "language": "python",
   "name": "python3"
  },
  "language_info": {
   "codemirror_mode": {
    "name": "ipython",
    "version": 3
   },
   "file_extension": ".py",
   "mimetype": "text/x-python",
   "name": "python",
   "nbconvert_exporter": "python",
   "pygments_lexer": "ipython3",
   "version": "3.7.12"
  }
 },
 "nbformat": 4,
 "nbformat_minor": 1
}
