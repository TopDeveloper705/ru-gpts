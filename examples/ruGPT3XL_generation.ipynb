{
 "cells": [
  {
   "cell_type": "markdown",
   "metadata": {},
   "source": [
    "## Load model"
   ]
  },
  {
   "cell_type": "code",
   "execution_count": 1,
   "metadata": {},
   "outputs": [],
   "source": [
    "%load_ext autoreload\n",
    "\n",
    "%autoreload 2"
   ]
  },
  {
   "cell_type": "code",
   "execution_count": 2,
   "metadata": {},
   "outputs": [],
   "source": [
    "import warnings\n",
    "warnings.filterwarnings(\"ignore\")"
   ]
  },
  {
   "cell_type": "code",
   "execution_count": 3,
   "metadata": {},
   "outputs": [],
   "source": [
    "import sys\n",
    "sys.path.append(\"../gw\")"
   ]
  },
  {
   "cell_type": "code",
   "execution_count": 6,
   "metadata": {},
   "outputs": [],
   "source": [
    "from generation_wrapper import RuGPT3XL"
   ]
  },
  {
   "cell_type": "markdown",
   "metadata": {},
   "source": [
    "Note! seq_len is max sequence length for generation used in generation process. Max avialable seq_len is 2048 (in tokens).\n",
    "Also inference takes around 10 Gb GPU memory."
   ]
  },
  {
   "cell_type": "code",
   "execution_count": 7,
   "metadata": {
    "scrolled": true
   },
   "outputs": [
    {
     "name": "stdout",
     "output_type": "stream",
     "text": [
      "> initializing model parallel with size 1\n",
      "> initializing model parallel cuda seeds on global rank 0, model parallel rank 0, and data parallel rank 0 with model parallel seed: 3952 and data parallel seed: 1234\n",
      "Use alternating sparse & dense attention layers\n"
     ]
    }
   ],
   "source": [
    "gpt = RuGPT3XL.from_pretrained(\"sberbank-ai/rugpt3xl\", seq_len=512)"
   ]
  },
  {
   "cell_type": "markdown",
   "metadata": {},
   "source": [
    "#### Get logits"
   ]
  },
  {
   "cell_type": "code",
   "execution_count": 10,
   "metadata": {},
   "outputs": [],
   "source": [
    "logits = gpt(\"Кто был президентом США в 2020? \").logits"
   ]
  },
  {
   "cell_type": "code",
   "execution_count": 11,
   "metadata": {},
   "outputs": [
    {
     "data": {
      "text/plain": [
       "(torch.Tensor, torch.Size([1, 8, 50264]))"
      ]
     },
     "execution_count": 11,
     "metadata": {},
     "output_type": "execute_result"
    }
   ],
   "source": [
    "type(logits), logits.shape"
   ]
  },
  {
   "cell_type": "markdown",
   "metadata": {},
   "source": [
    "#### Get loss"
   ]
  },
  {
   "cell_type": "code",
   "execution_count": 12,
   "metadata": {},
   "outputs": [],
   "source": [
    "input_ids = [gpt.tokenizer(\"Кто был президентом США в 2020? \")['input_ids']]\n",
    "labels = input_ids"
   ]
  },
  {
   "cell_type": "code",
   "execution_count": 13,
   "metadata": {},
   "outputs": [],
   "source": [
    "import torch\n",
    "\n",
    "\n",
    "with torch.no_grad():\n",
    "    loss = gpt(input_ids=input_ids, labels=labels).loss"
   ]
  },
  {
   "cell_type": "code",
   "execution_count": 14,
   "metadata": {},
   "outputs": [
    {
     "data": {
      "text/plain": [
       "[tensor(4.3871, device='cuda:0')]"
      ]
     },
     "execution_count": 14,
     "metadata": {},
     "output_type": "execute_result"
    }
   ],
   "source": [
    "loss"
   ]
  },
  {
   "cell_type": "markdown",
   "metadata": {},
   "source": [
    "#### Simple generation"
   ]
  },
  {
   "cell_type": "code",
   "execution_count": 18,
   "metadata": {},
   "outputs": [],
   "source": [
    "def filter_resuls(nr):\n",
    "    return [x[:x.find(\"<|endoftext|>\")] for x in nr]"
   ]
  },
  {
   "cell_type": "markdown",
   "metadata": {},
   "source": [
    "Greedy decoding"
   ]
  },
  {
   "cell_type": "code",
   "execution_count": 19,
   "metadata": {},
   "outputs": [
    {
     "data": {
      "text/plain": [
       "['Кто был президентом США в 2020? \\nВ этом году выборы президента Соединенных Штатов Америки пройдут уже через несколько дней. И, как и всегда на протяжении последних лет (а это более чем 20-ти), кандидаты будут бороться за право стать главой государств']"
      ]
     },
     "execution_count": 19,
     "metadata": {},
     "output_type": "execute_result"
    }
   ],
   "source": [
    "filter_resuls(gpt.generate(\n",
    "    \"Кто был президентом США в 2020? \",\n",
    "    max_length=50,\n",
    "    no_repeat_ngram_size=3,\n",
    "    repetition_penalty=2.,\n",
    "))"
   ]
  },
  {
   "cell_type": "markdown",
   "metadata": {},
   "source": [
    "sample"
   ]
  },
  {
   "cell_type": "code",
   "execution_count": 21,
   "metadata": {},
   "outputs": [
    {
     "data": {
      "text/plain": [
       "['Кто был президентом США в 2020? \\nВ следующем десятилетии президентство займет человек, который появится на свет 18 января. За это время у него будут все шансы не только достойно войти во взрослый мир политики и даже стать главой государства (для этого ег',\n",
       " 'Кто был президентом США в 2020? \\nИлья Мельчук (КПРФ) – 506 голосов за 1% + 411 депутатов, 2-е место по явке. Не удалось стать кандидатом от СР во втором туре выборов президента Р',\n",
       " 'Кто был президентом США в 2020? \\nСейчас я предлагаю подумать о том, кто бы исполнял обязанности президента России следующие два года. \\n Вы за или против того чтобы на этот пост встал Дмитрий Медведев!? Думаю это вопрос не праздный и здесь ест',\n",
       " 'Кто был президентом США в 2020? \\nПрезидентской избирательной кампанией во многих странах мира все чаще начинает руководить не сам президент, а партийцы. В 2016 году на этот пост баллотировался кандидат от Демократической партии Джеб Буш-мла',\n",
       " 'Кто был президентом США в 2020? \\nЗависит ли выбор следующего президента от географического места рождения политика и его материального состояния?.. Об этом, а также о будущем выборов американского лидера рассуждает политолог Александр Асафов.В конце июня этог']"
      ]
     },
     "execution_count": 21,
     "metadata": {},
     "output_type": "execute_result"
    }
   ],
   "source": [
    "filter_resuls(gpt.generate(\n",
    "    \"Кто был президентом США в 2020? \", do_sample=True, num_return_sequences=5,\n",
    "    max_length=50,\n",
    "    no_repeat_ngram_size=3,\n",
    "    repetition_penalty=2.,\n",
    "))"
   ]
  },
  {
   "cell_type": "markdown",
   "metadata": {},
   "source": [
    "#### Top_k top_p filtering"
   ]
  },
  {
   "cell_type": "code",
   "execution_count": 26,
   "metadata": {},
   "outputs": [
    {
     "data": {
      "text/plain": [
       "['Александр Сергеевич Пушкин родился в \\n1799 г. и прожил до 28 лет (1821-27), когда, по словам Вигеля, «умер на дуэли». Он был сыном богатого помещика Сергея Львовича Пушкина от брака ег',\n",
       " 'Александр Сергеевич Пушкин родился в \\n1812 году и умер через десять лет, не оставив потомства. В 1830-м его мать вышла замуж за богатого помещика Александра Ивановича Тургенева (1787—1936) — брата матери Пушкин',\n",
       " 'Александр Сергеевич Пушкин родился в \\xa01799 году, то есть ему было всего лишь 18 лет. Но уже через два года он был зачислен юнкером-артиллеристом во 2й егерский полк и начал службу подпор',\n",
       " 'Александр Сергеевич Пушкин родился в \\n1799 году (по другим данным — 1820). Его родители: отец, отставной поручик артиллерии Александр Иванович Пущин; мать - Екатерина Андреевна Карамзина. В семье Пушкина было четверо детей ',\n",
       " 'Александр Сергеевич Пушкин родился в \\n1899 г. на юге России, где провел свои детские годы и юность (родной хутор деда его - Ганнибала Пушкина), а с 1920 года жил во время Гражданской войны у своего отца поэта Александр']"
      ]
     },
     "execution_count": 26,
     "metadata": {},
     "output_type": "execute_result"
    }
   ],
   "source": [
    "filter_resuls(gpt.generate(\n",
    "    \"Александр Сергеевич Пушкин родился в \",\n",
    "    top_k=5,\n",
    "    top_p=0.95,\n",
    "    temperature=1.2,\n",
    "    num_return_sequences=5,\n",
    "    do_sample=True,\n",
    "    max_length=50,\n",
    "    no_repeat_ngram_size=3,\n",
    "    repetition_penalty=2.,\n",
    "))"
   ]
  },
  {
   "cell_type": "markdown",
   "metadata": {},
   "source": [
    "#### Beamsearch"
   ]
  },
  {
   "cell_type": "code",
   "execution_count": 27,
   "metadata": {},
   "outputs": [
    {
     "data": {
      "text/plain": [
       "['Александр Сергеевич Пушкин родился в \\n1799 году в селе Михайловском Псковской губернии. Его отец, \\nАлександр Львович Пушкин, происходил из старинного \\nдворянского рода. Мать, урожденная Ганнибал, был',\n",
       " 'Александр Сергеевич Пушкин родился в \\n1799 году в селе Михайловском Псковской губернии. Его отец, \\nАлександр Львович Пушкин, происходил из старинного \\nдворянского рода. Мать поэта, Мария Алексеевна Ганнибал',\n",
       " 'Александр Сергеевич Пушкин родился в \\n1799 году в селе Михайловском Псковской губернии. Его отец, \\nАлександр Львович Пушкин, происходил из старинного \\nдворянского рода. Мать поэта, Наталья Николаевна \\nПушкин',\n",
       " 'Александр Сергеевич Пушкин родился в \\n1799 году в селе Михайловском Псковской губернии. Его отец, \\nАлександр Львович Пушкин, происходил из старинного \\nдворянского рода. Мать, урождённая Ганнибал, был',\n",
       " 'Александр Сергеевич Пушкин родился в \\n1799 году в селе Михайловском Псковской губернии. Его отец, \\nАлександр Львович Пушкин, происходил из старинного \\nдворянского рода. Мать, урожденная Ганнибал,']"
      ]
     },
     "execution_count": 27,
     "metadata": {},
     "output_type": "execute_result"
    }
   ],
   "source": [
    "filter_resuls(gpt.generate(\n",
    "    text=\"Александр Сергеевич Пушкин родился в \",\n",
    "    max_length=50,\n",
    "    num_beams=10,\n",
    "    no_repeat_ngram_size=3,\n",
    "    repetition_penalty=2.,\n",
    "    num_return_sequences=5,\n",
    "))"
   ]
  },
  {
   "cell_type": "code",
   "execution_count": null,
   "metadata": {},
   "outputs": [],
   "source": []
  }
 ],
 "metadata": {
  "kernelspec": {
   "display_name": "Python 3",
   "language": "python",
   "name": "python3"
  },
  "language_info": {
   "codemirror_mode": {
    "name": "ipython",
    "version": 3
   },
   "file_extension": ".py",
   "mimetype": "text/x-python",
   "name": "python",
   "nbconvert_exporter": "python",
   "pygments_lexer": "ipython3",
   "version": "3.7.8"
  }
 },
 "nbformat": 4,
 "nbformat_minor": 2
}
