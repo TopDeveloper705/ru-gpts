{
  "nbformat": 4,
  "nbformat_minor": 0,
  "metadata": {
    "accelerator": "GPU",
    "colab": {
      "name": "ruGPT3XL_generation.ipynb",
      "provenance": []
    },
    "kernelspec": {
      "display_name": "Python 3",
      "language": "python",
      "name": "python3"
    },
    "language_info": {
      "codemirror_mode": {
        "name": "ipython",
        "version": 3
      },
      "file_extension": ".py",
      "mimetype": "text/x-python",
      "name": "python",
      "nbconvert_exporter": "python",
      "pygments_lexer": "ipython3",
      "version": "3.7.8"
    },
    "gpuClass": "standard"
  },
  "cells": [
    {
      "cell_type": "markdown",
      "metadata": {
        "id": "r-XkQgf-ufgE"
      },
      "source": [
        "## Install lib"
      ]
    },
    {
      "cell_type": "code",
      "metadata": {
        "id": "gH2kLmcXmL3e"
      },
      "source": [
        "%%bash\n",
        "export LD_LIBRARY_PATH=/usr/lib/"
      ],
      "execution_count": 11,
      "outputs": []
    },
    {
      "cell_type": "code",
      "metadata": {
        "id": "NRkBHiuOFYB-"
      },
      "source": [
        "!apt-get install clang-9 llvm-9 llvm-9-dev llvm-9-tools"
      ],
      "execution_count": null,
      "outputs": []
    },
    {
      "cell_type": "code",
      "source": [
        "!rm -rf apex"
      ],
      "metadata": {
        "id": "GfdFeAVylpIQ"
      },
      "execution_count": 13,
      "outputs": []
    },
    {
      "cell_type": "code",
      "source": [
        "%%bash\n",
        "git clone https://github.com/qywu/apex\n",
        "cd apex\n",
        "pip install -v --no-cache-dir --global-option=\"--cpp_ext\" --global-option=\"--cuda_ext\" ./"
      ],
      "metadata": {
        "id": "zFqiiOnRnh9p"
      },
      "execution_count": null,
      "outputs": []
    },
    {
      "cell_type": "code",
      "source": [
        "!pip install triton"
      ],
      "metadata": {
        "id": "7t-l-Gq6mGYg"
      },
      "execution_count": null,
      "outputs": []
    },
    {
      "cell_type": "code",
      "metadata": {
        "id": "LEyrQ-spCdhR"
      },
      "source": [
        "!DS_BUILD_CPU_ADAM=1 DS_BUILD_SPARSE_ATTN=1 pip install deepspeed"
      ],
      "execution_count": null,
      "outputs": []
    },
    {
      "cell_type": "code",
      "metadata": {
        "colab": {
          "base_uri": "https://localhost:8080/"
        },
        "id": "---7k9osCliv",
        "outputId": "9cbfaecf-38d2-424b-f9bc-cb8fd2278ac7"
      },
      "source": [
        "!ds_report"
      ],
      "execution_count": 17,
      "outputs": [
        {
          "output_type": "stream",
          "name": "stdout",
          "text": [
            "--------------------------------------------------\n",
            "DeepSpeed C++/CUDA extension op report\n",
            "--------------------------------------------------\n",
            "NOTE: Ops not installed will be just-in-time (JIT) compiled at\n",
            "      runtime if needed. Op compatibility means that your system\n",
            "      meet the required dependencies to JIT install the op.\n",
            "--------------------------------------------------\n",
            "JIT compiled ops requires ninja\n",
            "ninja .................. \u001b[92m[OKAY]\u001b[0m\n",
            "--------------------------------------------------\n",
            "op name ................ installed .. compatible\n",
            "--------------------------------------------------\n",
            "cpu_adam ............... \u001b[92m[YES]\u001b[0m ...... \u001b[92m[OKAY]\u001b[0m\n",
            "cpu_adagrad ............ \u001b[93m[NO]\u001b[0m ....... \u001b[92m[OKAY]\u001b[0m\n",
            "fused_adam ............. \u001b[93m[NO]\u001b[0m ....... \u001b[92m[OKAY]\u001b[0m\n",
            "fused_lamb ............. \u001b[93m[NO]\u001b[0m ....... \u001b[92m[OKAY]\u001b[0m\n",
            "sparse_attn ............ \u001b[92m[YES]\u001b[0m ...... \u001b[92m[OKAY]\u001b[0m\n",
            "transformer ............ \u001b[93m[NO]\u001b[0m ....... \u001b[92m[OKAY]\u001b[0m\n",
            "stochastic_transformer . \u001b[93m[NO]\u001b[0m ....... \u001b[92m[OKAY]\u001b[0m\n",
            "\u001b[93m [WARNING] \u001b[0m async_io requires the dev libaio .so object and headers but these were not found.\n",
            "\u001b[93m [WARNING] \u001b[0m async_io: please install the libaio-dev package with apt\n",
            "\u001b[93m [WARNING] \u001b[0m If libaio is already installed (perhaps from source), try setting the CFLAGS and LDFLAGS environment variables to where it can be found.\n",
            "async_io ............... \u001b[93m[NO]\u001b[0m ....... \u001b[93m[NO]\u001b[0m\n",
            "transformer_inference .. \u001b[93m[NO]\u001b[0m ....... \u001b[92m[OKAY]\u001b[0m\n",
            "utils .................. \u001b[93m[NO]\u001b[0m ....... \u001b[92m[OKAY]\u001b[0m\n",
            "quantizer .............. \u001b[93m[NO]\u001b[0m ....... \u001b[92m[OKAY]\u001b[0m\n",
            "--------------------------------------------------\n",
            "DeepSpeed general environment info:\n",
            "torch install path ............... ['/usr/local/lib/python3.8/dist-packages/torch']\n",
            "torch version .................... 1.12.1+cu113\n",
            "torch cuda version ............... 11.3\n",
            "nvcc version ..................... 11.2\n",
            "deepspeed install path ........... ['/usr/local/lib/python3.8/dist-packages/deepspeed']\n",
            "deepspeed info ................... 0.5.10, unknown, unknown\n",
            "deepspeed wheel compiled w. ...... torch 1.12, cuda 11.3\n"
          ]
        }
      ]
    },
    {
      "cell_type": "markdown",
      "source": [
        "Test, that deepspeed was installed correctly."
      ],
      "metadata": {
        "id": "rl1JIPsK8viz"
      }
    },
    {
      "cell_type": "code",
      "metadata": {
        "id": "DqPIkEYjCmLH"
      },
      "source": [
        "import deepspeed.ops.sparse_attention.sparse_attn_op"
      ],
      "execution_count": 18,
      "outputs": []
    },
    {
      "cell_type": "code",
      "metadata": {
        "id": "gw4lJHfX4QnB"
      },
      "source": [
        "!rm -rf ru-gpts"
      ],
      "execution_count": 19,
      "outputs": []
    },
    {
      "cell_type": "code",
      "metadata": {
        "id": "t43yH5k1jtZZ"
      },
      "source": [
        "!git clone  https://github.com/sberbank-ai/ru-gpts"
      ],
      "execution_count": null,
      "outputs": []
    },
    {
      "cell_type": "code",
      "metadata": {
        "id": "H2XiJvm_tQgL"
      },
      "source": [
        "!pip install transformers==3.5.1"
      ],
      "execution_count": null,
      "outputs": []
    },
    {
      "cell_type": "code",
      "source": [
        "!pip install timm==0.3.2"
      ],
      "metadata": {
        "id": "HN9FJ3rKnO5Q"
      },
      "execution_count": null,
      "outputs": []
    },
    {
      "cell_type": "code",
      "metadata": {
        "id": "1RCujWwJUwm-"
      },
      "source": [
        "!cp ru-gpts/src_utils/trainer_pt_utils.py /usr/local/lib/python3.8/dist-packages/transformers/trainer_pt_utils.py"
      ],
      "execution_count": 25,
      "outputs": []
    },
    {
      "cell_type": "markdown",
      "source": [
        "Here restart colab env!!!"
      ],
      "metadata": {
        "id": "iWnXPnNR8nW4"
      }
    },
    {
      "cell_type": "markdown",
      "metadata": {
        "id": "7TbybJfIpBVa"
      },
      "source": [
        "# Test model"
      ]
    },
    {
      "cell_type": "code",
      "source": [
        "import deepspeed"
      ],
      "metadata": {
        "id": "P5P4MjOkwTtN"
      },
      "execution_count": 1,
      "outputs": []
    },
    {
      "cell_type": "markdown",
      "metadata": {
        "id": "rU8lvJHAjpPQ"
      },
      "source": [
        "### Load model"
      ]
    },
    {
      "cell_type": "code",
      "metadata": {
        "id": "EnTy1SEajpPV"
      },
      "source": [
        "import warnings\n",
        "warnings.filterwarnings(\"ignore\")"
      ],
      "execution_count": 1,
      "outputs": []
    },
    {
      "cell_type": "code",
      "metadata": {
        "id": "Z-DSEz0ljpPV"
      },
      "source": [
        "import sys\n",
        "sys.path.append(\"ru-gpts/\")"
      ],
      "execution_count": 2,
      "outputs": []
    },
    {
      "cell_type": "code",
      "metadata": {
        "id": "_9GABoxNVpH4"
      },
      "source": [
        "import os\n",
        "os.environ[\"USE_DEEPSPEED\"] = \"1\""
      ],
      "execution_count": 3,
      "outputs": []
    },
    {
      "cell_type": "code",
      "metadata": {
        "id": "_HeCFnJEjpPV"
      },
      "source": [
        "from src.xl_wrapper import RuGPT3XL"
      ],
      "execution_count": 4,
      "outputs": []
    },
    {
      "cell_type": "markdown",
      "metadata": {
        "id": "OdyughHDjpPV"
      },
      "source": [
        "Note! seq_len is max sequence length for generation used in generation process. Max avialable seq_len is 2048 (in tokens).\n",
        "Also inference takes around 10 Gb GPU memory."
      ]
    },
    {
      "cell_type": "code",
      "source": [
        "import torch\n",
        "torch.cuda.is_available()"
      ],
      "metadata": {
        "id": "Ik1FP4Jcq8tg",
        "outputId": "1365d21e-971a-488d-ad67-ce7a9439c201",
        "colab": {
          "base_uri": "https://localhost:8080/"
        }
      },
      "execution_count": 5,
      "outputs": [
        {
          "output_type": "execute_result",
          "data": {
            "text/plain": [
              "True"
            ]
          },
          "metadata": {},
          "execution_count": 5
        }
      ]
    },
    {
      "cell_type": "code",
      "source": [
        "from src import mpu"
      ],
      "metadata": {
        "id": "BKpw5ik2uWrw"
      },
      "execution_count": 6,
      "outputs": []
    },
    {
      "cell_type": "code",
      "source": [
        "os.environ[\"MASTER_ADDR\"] = \"127.0.0.1\"\n",
        "os.environ[\"MASTER_PORT\"] = \"5000\""
      ],
      "metadata": {
        "id": "T0hDbxdvvUiO"
      },
      "execution_count": 7,
      "outputs": []
    },
    {
      "cell_type": "code",
      "metadata": {
        "colab": {
          "base_uri": "https://localhost:8080/"
        },
        "id": "56aNJNPYjpPW",
        "scrolled": true,
        "outputId": "cf82ca2e-f13f-49e6-db87-95f86cdcb85c"
      },
      "source": [
        "# gpt = RuGPT3XL.from_pretrained(\"sberbank-ai/rugpt3xl\", seq_len=512)\n",
        "gpt = RuGPT3XL.from_pretrained(\"sberbank-ai/rugpt3xl\", seq_len=512)\n",
        "# model parallel group is not initialized - если не подключена gpu"
      ],
      "execution_count": 9,
      "outputs": [
        {
          "output_type": "stream",
          "name": "stdout",
          "text": [
            "> initializing model parallel with size 1\n",
            "Use alternating sparse & dense attention layers\n"
          ]
        }
      ]
    },
    {
      "cell_type": "markdown",
      "metadata": {
        "id": "7qR_3287jpPW"
      },
      "source": [
        "### Get logits"
      ]
    },
    {
      "cell_type": "code",
      "metadata": {
        "id": "9yfRylnnjpPW"
      },
      "source": [
        "logits = gpt(\"Кто был президентом США в 2020? \").logits"
      ],
      "execution_count": 12,
      "outputs": []
    },
    {
      "cell_type": "code",
      "metadata": {
        "id": "BHcwcMwHjpPX",
        "outputId": "09fbe0fa-58c2-45e3-b883-6624f37c01a8",
        "colab": {
          "base_uri": "https://localhost:8080/"
        }
      },
      "source": [
        "type(logits), logits.shape"
      ],
      "execution_count": 13,
      "outputs": [
        {
          "output_type": "execute_result",
          "data": {
            "text/plain": [
              "(torch.Tensor, torch.Size([1, 8, 50264]))"
            ]
          },
          "metadata": {},
          "execution_count": 13
        }
      ]
    },
    {
      "cell_type": "markdown",
      "metadata": {
        "id": "J7a29eADjpPX"
      },
      "source": [
        "### Get loss"
      ]
    },
    {
      "cell_type": "code",
      "metadata": {
        "id": "q44D1VlojpPX"
      },
      "source": [
        "input_ids = [gpt.tokenizer(\"Кто был президентом США в 2020? \")['input_ids']]\n",
        "labels = input_ids"
      ],
      "execution_count": 14,
      "outputs": []
    },
    {
      "cell_type": "code",
      "metadata": {
        "id": "9zIpNDegjpPX"
      },
      "source": [
        "import torch\n",
        "\n",
        "\n",
        "with torch.no_grad():\n",
        "    loss = gpt(input_ids=input_ids, labels=labels).loss"
      ],
      "execution_count": 15,
      "outputs": []
    },
    {
      "cell_type": "code",
      "metadata": {
        "id": "WcYvXFsBjpPY",
        "outputId": "aed1cca9-6b39-4e1a-c168-d14a19d6569e",
        "colab": {
          "base_uri": "https://localhost:8080/"
        }
      },
      "source": [
        "loss"
      ],
      "execution_count": 16,
      "outputs": [
        {
          "output_type": "execute_result",
          "data": {
            "text/plain": [
              "[tensor(4.3895, device='cuda:0')]"
            ]
          },
          "metadata": {},
          "execution_count": 16
        }
      ]
    },
    {
      "cell_type": "markdown",
      "metadata": {
        "id": "Lgi-JUNijpPY"
      },
      "source": [
        "### Simple generation"
      ]
    },
    {
      "cell_type": "code",
      "metadata": {
        "id": "Z0AIfKPPjpPY"
      },
      "source": [
        "def filter_resuls(nr):\n",
        "    return [x[:x.find(\"<|endoftext|>\")] for x in nr]"
      ],
      "execution_count": 17,
      "outputs": []
    },
    {
      "cell_type": "markdown",
      "metadata": {
        "id": "aHWixkU3jpPY"
      },
      "source": [
        "Greedy decoding"
      ]
    },
    {
      "cell_type": "code",
      "metadata": {
        "id": "wla741VxjpPY",
        "outputId": "996641c8-f6d9-454e-d246-a9bff54d669f",
        "colab": {
          "base_uri": "https://localhost:8080/"
        }
      },
      "source": [
        "filter_resuls(gpt.generate(\n",
        "    \"Кто был президентом США в 2020? \",\n",
        "    max_length=50,\n",
        "    no_repeat_ngram_size=3,\n",
        "    repetition_penalty=2.,\n",
        "))"
      ],
      "execution_count": 18,
      "outputs": [
        {
          "output_type": "execute_result",
          "data": {
            "text/plain": [
              "['Кто был президентом США в 2020? \\nВ этом году выборы президента Соединенных Штатов Америки пройдут уже через несколько дней. И, как и всегда на протяжении последних лет (а это более чем 20-ти), кандидаты будут бороться за право стать главой государств']"
            ]
          },
          "metadata": {},
          "execution_count": 18
        }
      ]
    },
    {
      "cell_type": "markdown",
      "metadata": {
        "id": "I_ltaza-jpPZ"
      },
      "source": [
        "sample"
      ]
    },
    {
      "cell_type": "code",
      "metadata": {
        "id": "3oPE1lP2jpPZ",
        "outputId": "1652ba9c-6f61-4c0a-934c-7425f1503525",
        "colab": {
          "base_uri": "https://localhost:8080/"
        }
      },
      "source": [
        "filter_resuls(gpt.generate(\n",
        "    \"Кто был президентом США в 2020? \", do_sample=True, num_return_sequences=5,\n",
        "    max_length=50,\n",
        "    no_repeat_ngram_size=3,\n",
        "    repetition_penalty=2.,\n",
        "))"
      ],
      "execution_count": 19,
      "outputs": [
        {
          "output_type": "execute_result",
          "data": {
            "text/plain": [
              "['Кто был президентом США в 2020? \\nНовым, на первый взгляд странным и непонятным образом определилось будущее Америки. За несколько часов до конца таймера ожидания выборов президента уже ясно было - кто займет президентский пост после окончания голосования – Дональд Трам',\n",
              " 'Кто был президентом США в 2020? \\n\"Я никогда не выйду живым из этого леса\",- говорит главный герой фильма \"Зеленая миля\". Услышав это, начинаешь задумываться: а так ли хорош твой опыт жизни на другой стороне земного шара',\n",
              " 'Кто был президентом США в 2020? \\nВы хотите знать, как будет выглядеть ваш мир через сорок лет после того срока своего президентства уходящего следующего президента? Посмотрите на эти четыре изображения и попробуйте угадать кто бы это мог быть. \\n Вот первый предполаг',\n",
              " 'Кто был президентом США в 2020? \\nВ интернете появился новый опрос на тему, которую так трудно назвать \"демократичной\". Народ хочет знать о том. какие президенты стояли у руля их страны и за сколько часов до собственной смерти они успевали подписат',\n",
              " 'Кто был президентом США в 2020? \\nВот, мы знаем. Кто президент России с 2018 — точно: Владимир Владимирович Путин наш дорогой и любимый (пока не отлучим его по суду). У остальных тоже есть свои любимчики... или там ненав']"
            ]
          },
          "metadata": {},
          "execution_count": 19
        }
      ]
    },
    {
      "cell_type": "markdown",
      "metadata": {
        "id": "9FbokoJDjpPZ"
      },
      "source": [
        "### Top_k top_p filtering"
      ]
    },
    {
      "cell_type": "code",
      "metadata": {
        "id": "8L-CF6uLjpPZ",
        "outputId": "383956aa-1361-4dad-d579-ded3a6f4e187",
        "colab": {
          "base_uri": "https://localhost:8080/"
        }
      },
      "source": [
        "filter_resuls(gpt.generate(\n",
        "    \"Александр Сергеевич Пушкин родился в \",\n",
        "    top_k=5,\n",
        "    top_p=0.95,\n",
        "    temperature=1.2,\n",
        "    num_return_sequences=5,\n",
        "    do_sample=True,\n",
        "    max_length=50,\n",
        "    no_repeat_ngram_size=3,\n",
        "    repetition_penalty=2.,\n",
        "))"
      ],
      "execution_count": 20,
      "outputs": [
        {
          "output_type": "execute_result",
          "data": {
            "text/plain": [
              "['Александр Сергеевич Пушкин родился в \\nМоскве. В 1799 г., после того как его отец, отставной поручик лейб-гвардии Преображенского полка Александр Иванович (17451816), женился на вдове капитана Екатерине Петро',\n",
              " 'Александр Сергеевич Пушкин родился в \\xa01899 году. Он был сыном великого поэта Александра Сергеевича Пушкина и Натальи Гончаровой - сестры прапрабабушки Льва Толстого Александры Николаевны, которая была замужем за князем Николаем Васильевичем Трубецки',\n",
              " 'Александр Сергеевич Пушкин родился в \\n1817 году. Его отец – Александр Иванович, служил чиновником при министерстве внутренних дел Российской империи и умер рано; его мать Мария Алексеевна Ганнибал (урожденная Пушкина), урождённая Энгельга',\n",
              " 'Александр Сергеевич Пушкин родился в \\n1817 г. (по другим сведениям 1820). В детстве и ранней юности жил с родителями за границей, учился у лучших педагогов Франции - Лагарпа, Жозефа Мари Ашара. С ранних лет увле',\n",
              " 'Александр Сергеевич Пушкин родился в \\n1799 г. Его отец, Александр Матвеевич Ганнибал (ум.-1837), был родом из деревни Слепушкино Тверской губернии; дед - отставной майор Иван Петрович Гамильтон-Пушки']"
            ]
          },
          "metadata": {},
          "execution_count": 20
        }
      ]
    },
    {
      "cell_type": "markdown",
      "metadata": {
        "id": "scs7xKdhjpPZ"
      },
      "source": [
        "### Beamsearch"
      ]
    },
    {
      "cell_type": "code",
      "metadata": {
        "id": "7Qw65CVzjpPZ",
        "outputId": "c411e749-acba-48ac-d931-9a0839f60c4b",
        "colab": {
          "base_uri": "https://localhost:8080/"
        }
      },
      "source": [
        "filter_resuls(gpt.generate(\n",
        "    text=\"Александр Сергеевич Пушкин родился в \",\n",
        "    max_length=50,\n",
        "    num_beams=10,\n",
        "    no_repeat_ngram_size=3,\n",
        "    repetition_penalty=2.,\n",
        "    num_return_sequences=5,\n",
        "))"
      ],
      "execution_count": 21,
      "outputs": [
        {
          "output_type": "execute_result",
          "data": {
            "text/plain": [
              "['Александр Сергеевич Пушкин родился в \\n1799 году в селе Михайловском Псковской губернии. Его отец, \\nАлександр Львович Пушкин, происходил из старинного \\nдворянского рода. Мать, урожденная Ганнибал, был',\n",
              " 'Александр Сергеевич Пушкин родился в \\n1799 году в селе Михайловском Псковской губернии. Его отец, \\nАлександр Львович Пушкин, происходил из старинного \\nдворянского рода. Мать поэта, Мария Алексеевна Ганнибал',\n",
              " 'Александр Сергеевич Пушкин родился в \\n1799 году в селе Михайловском Псковской губернии. Его отец, \\nАлександр Львович Пушкин, происходил из старинного \\nдворянского рода. Мать поэта, Наталья Николаевна \\nПушкин',\n",
              " 'Александр Сергеевич Пушкин родился в \\n1799 году в селе Михайловском Псковской губернии. Его отец, \\nАлександр Львович Пушкин, происходил из старинного \\nдворянского рода. Мать, урождённая Ганнибал, был',\n",
              " 'Александр Сергеевич Пушкин родился в \\n1799 году в селе Михайловском Псковской губернии. Его отец, \\nАлександр Львович Пушкин, происходил из старинного \\nдворянского рода. Мать, урожденная Ганнибал,']"
            ]
          },
          "metadata": {},
          "execution_count": 21
        }
      ]
    },
    {
      "cell_type": "code",
      "metadata": {
        "id": "sw4Iv-Dl3q05"
      },
      "source": [],
      "execution_count": null,
      "outputs": []
    }
  ]
}